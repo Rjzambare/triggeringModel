{
 "cells": [
  {
   "cell_type": "code",
   "execution_count": 10,
   "metadata": {},
   "outputs": [
    {
     "name": "stdout",
     "output_type": "stream",
     "text": [
      "\n",
      "Test Predictions:\n",
      "\n",
      "Input: {'acceleration': 125.8, 'rotation': 18, 'magnetic_field': 48.97, 'light': 200}\n",
      "Prediction: true\n",
      "Confidence: 62.00%\n",
      "\n",
      "Input: {'acceleration': 130, 'rotation': 15, 'magnetic_field': 46, 'light': 305}\n",
      "Prediction: true\n",
      "Confidence: 60.00%\n"
     ]
    },
    {
     "name": "stderr",
     "output_type": "stream",
     "text": [
      "c:\\Users\\rjzam\\AppData\\Local\\Programs\\Python\\Python38\\lib\\site-packages\\sklearn\\base.py:465: UserWarning: X does not have valid feature names, but StandardScaler was fitted with feature names\n",
      "  warnings.warn(\n",
      "c:\\Users\\rjzam\\AppData\\Local\\Programs\\Python\\Python38\\lib\\site-packages\\sklearn\\base.py:465: UserWarning: X does not have valid feature names, but StandardScaler was fitted with feature names\n",
      "  warnings.warn(\n"
     ]
    }
   ],
   "source": [
    "import pandas as pd\n",
    "import numpy as np\n",
    "from sklearn.model_selection import train_test_split\n",
    "from sklearn.preprocessing import StandardScaler\n",
    "from sklearn.ensemble import RandomForestClassifier\n",
    "from sklearn.metrics import classification_report, confusion_matrix\n",
    "import json\n",
    "import matplotlib.pyplot as plt\n",
    "import seaborn as sns\n",
    "from sklearn.model_selection import cross_val_score\n",
    "\n",
    "with open('sensor_data.json', 'r') as f:\n",
    "    data = json.load(f)\n",
    "\n",
    "df = pd.DataFrame(data)\n",
    "\n",
    "X = df[['acceleration', 'rotation', 'magnetic_field', 'light']]\n",
    "y = df['sos_triggered']\n",
    "\n",
    "X_train, X_test, y_train, y_test = train_test_split(X, y, test_size=0.2, random_state=42)\n",
    "\n",
    "scaler = StandardScaler()\n",
    "X_train_scaled = scaler.fit_transform(X_train)\n",
    "X_test_scaled = scaler.transform(X_test)\n",
    "\n",
    "rf_model = RandomForestClassifier(n_estimators=100, random_state=42)\n",
    "rf_model.fit(X_train_scaled, y_train)\n",
    "\n",
    "y_pred = rf_model.predict(X_test_scaled)\n",
    "\n",
    "# print(\"Classification Report:\")\n",
    "# print(classification_report(y_test, y_pred))\n",
    "\n",
    "cv_scores = cross_val_score(rf_model, X_train_scaled, y_train, cv=5)\n",
    "# print(\"\\nCross-validation scores:\", cv_scores)\n",
    "# print(\"Average CV score:\", cv_scores.mean())\n",
    "\n",
    "feature_importance = pd.DataFrame({\n",
    "    'feature': X.columns,\n",
    "    'importance': rf_model.feature_importances_\n",
    "}).sort_values('importance', ascending=False)\n",
    "\n",
    "# print(\"\\nFeature Importance:\")\n",
    "# print(feature_importance)\n",
    "\n",
    "# plt.figure(figsize=(8, 6))\n",
    "# cm = confusion_matrix(y_test, y_pred)\n",
    "# sns.heatmap(cm, annot=True, fmt='d', cmap='Blues')\n",
    "# plt.title('Confusion Matrix')\n",
    "# plt.ylabel('True Label')\n",
    "# plt.xlabel('Predicted Label')\n",
    "# plt.show()\n",
    "\n",
    "def predict_sos(acceleration, rotation, magnetic_field, light):\n",
    "    new_data = np.array([[acceleration, rotation, magnetic_field, light]])\n",
    "    new_data_scaled = scaler.transform(new_data)\n",
    "    prediction = rf_model.predict(new_data_scaled)\n",
    "    probability = rf_model.predict_proba(new_data_scaled)[0]\n",
    "    return {\n",
    "        'prediction': int(prediction[0]),\n",
    "        'probability': float(probability[prediction[0]])\n",
    "    }\n",
    "\n",
    "# Example predictions\n",
    "test_cases = [\n",
    "    {'acceleration': 125.80, 'rotation': 18, 'magnetic_field': 48.97, 'light': 200},  # Normal case\n",
    "    {'acceleration': 130, 'rotation': 15, 'magnetic_field': 46, 'light': 305}  # Anomalous case\n",
    "]\n",
    "\n",
    "print(\"\\nTest Predictions:\")\n",
    "for case in test_cases:\n",
    "    result = predict_sos(case['acceleration'], case['rotation'],\n",
    "                        case['magnetic_field'], case['light'])\n",
    "    print(f\"\\nInput: {case}\")\n",
    "    print(f\"Prediction: {'true' if result['prediction'] == 1 else 'false'}\")\n",
    "    print(f\"Confidence: {result['probability']:.2%}\")"
   ]
  },
  {
   "cell_type": "code",
   "execution_count": 7,
   "metadata": {},
   "outputs": [
    {
     "data": {
      "text/plain": [
       "['model.pkl']"
      ]
     },
     "execution_count": 7,
     "metadata": {},
     "output_type": "execute_result"
    }
   ],
   "source": [
    "import joblib\n",
    "model = rf_model  # Replace with your trained model\n",
    "joblib.dump(model, 'model.pkl')\n"
   ]
  }
 ],
 "metadata": {
  "kernelspec": {
   "display_name": "Python 3",
   "language": "python",
   "name": "python3"
  },
  "language_info": {
   "codemirror_mode": {
    "name": "ipython",
    "version": 3
   },
   "file_extension": ".py",
   "mimetype": "text/x-python",
   "name": "python",
   "nbconvert_exporter": "python",
   "pygments_lexer": "ipython3",
   "version": "3.8.0"
  }
 },
 "nbformat": 4,
 "nbformat_minor": 2
}
